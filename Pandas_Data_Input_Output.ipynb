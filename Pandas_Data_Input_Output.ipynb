{
  "nbformat": 4,
  "nbformat_minor": 0,
  "metadata": {
    "colab": {
      "name": "Pandas Data Input Output.ipynb",
      "provenance": [],
      "authorship_tag": "ABX9TyPpXEptsfr41oTWhDDJKZqZ",
      "include_colab_link": true
    },
    "kernelspec": {
      "name": "python3",
      "display_name": "Python 3"
    },
    "language_info": {
      "name": "python"
    }
  },
  "cells": [
    {
      "cell_type": "markdown",
      "metadata": {
        "id": "view-in-github",
        "colab_type": "text"
      },
      "source": [
        "<a href=\"https://colab.research.google.com/github/Neel12-coder/Python-Datascience/blob/main/Pandas_Data_Input_Output.ipynb\" target=\"_parent\"><img src=\"https://colab.research.google.com/assets/colab-badge.svg\" alt=\"Open In Colab\"/></a>"
      ]
    },
    {
      "cell_type": "code",
      "metadata": {
        "id": "Yqda3StRCmAt"
      },
      "source": [
        "import pandas as pd"
      ],
      "execution_count": 1,
      "outputs": []
    },
    {
      "cell_type": "code",
      "metadata": {
        "colab": {
          "base_uri": "https://localhost:8080/",
          "height": 35
        },
        "id": "Twms4oRVCsJ3",
        "outputId": "1a6584ae-3425-48df-d673-b94a16a0931d"
      },
      "source": [
        "pwd #gives path"
      ],
      "execution_count": 3,
      "outputs": [
        {
          "output_type": "execute_result",
          "data": {
            "application/vnd.google.colaboratory.intrinsic+json": {
              "type": "string"
            },
            "text/plain": [
              "'/content'"
            ]
          },
          "metadata": {},
          "execution_count": 3
        }
      ]
    },
    {
      "cell_type": "code",
      "metadata": {
        "id": "MayQhSXSCzEL"
      },
      "source": [
        "#df = pd.read_csv(\"\") to read csv file"
      ],
      "execution_count": 5,
      "outputs": []
    },
    {
      "cell_type": "code",
      "metadata": {
        "id": "rzRcgSBjDWcH"
      },
      "source": [
        "#df.to_csv(\"myout\",index=False) # first arg is name that u wish to give to ur csv file and index is true bydef make it fal to use old index"
      ],
      "execution_count": 6,
      "outputs": []
    },
    {
      "cell_type": "code",
      "metadata": {
        "id": "2x6y3pmEFNLC"
      },
      "source": [
        "# pd.read_excel(\"abc.xlsx\",sheet_name=\"Sheet1\")"
      ],
      "execution_count": 7,
      "outputs": []
    },
    {
      "cell_type": "code",
      "metadata": {
        "id": "EP2wBv3ZLH1H"
      },
      "source": [
        "# df.to_excel(\"op.xlsx\",sheet_name =\"Sheet1\")"
      ],
      "execution_count": 8,
      "outputs": []
    },
    {
      "cell_type": "code",
      "metadata": {
        "id": "SKoiFc7hBIVp",
        "colab": {
          "base_uri": "https://localhost:8080/"
        },
        "outputId": "2b13cb84-1a5f-4bd0-a171-39cc9ccafa7b"
      },
      "source": [
        "data = pd.read_html(\"https://www.fdic.gov/resources/resolutions/bank-failures/failed-bank-list/\")\n",
        "data"
      ],
      "execution_count": 10,
      "outputs": [
        {
          "output_type": "execute_result",
          "data": {
            "text/plain": [
              "[                         Bank NameBank  ... FundFund\n",
              " 0                    Almena State Bank  ...    10538\n",
              " 1           First City Bank of Florida  ...    10537\n",
              " 2                 The First State Bank  ...    10536\n",
              " 3                   Ericson State Bank  ...    10535\n",
              " 4     City National Bank of New Jersey  ...    10534\n",
              " ..                                 ...  ...      ...\n",
              " 558                 Superior Bank, FSB  ...     6004\n",
              " 559                Malta National Bank  ...     4648\n",
              " 560    First Alliance Bank & Trust Co.  ...     4647\n",
              " 561  National State Bank of Metropolis  ...     4646\n",
              " 562                   Bank of Honolulu  ...     4645\n",
              " \n",
              " [563 rows x 7 columns]]"
            ]
          },
          "metadata": {},
          "execution_count": 10
        }
      ]
    },
    {
      "cell_type": "code",
      "metadata": {
        "colab": {
          "base_uri": "https://localhost:8080/",
          "height": 423
        },
        "id": "g3bOm_LILfkc",
        "outputId": "44a9e41d-c68e-4d4d-e39b-45271b8e8245"
      },
      "source": [
        "data[0]"
      ],
      "execution_count": 11,
      "outputs": [
        {
          "output_type": "execute_result",
          "data": {
            "text/html": [
              "<div>\n",
              "<style scoped>\n",
              "    .dataframe tbody tr th:only-of-type {\n",
              "        vertical-align: middle;\n",
              "    }\n",
              "\n",
              "    .dataframe tbody tr th {\n",
              "        vertical-align: top;\n",
              "    }\n",
              "\n",
              "    .dataframe thead th {\n",
              "        text-align: right;\n",
              "    }\n",
              "</style>\n",
              "<table border=\"1\" class=\"dataframe\">\n",
              "  <thead>\n",
              "    <tr style=\"text-align: right;\">\n",
              "      <th></th>\n",
              "      <th>Bank NameBank</th>\n",
              "      <th>CityCity</th>\n",
              "      <th>StateSt</th>\n",
              "      <th>CertCert</th>\n",
              "      <th>Acquiring InstitutionAI</th>\n",
              "      <th>Closing DateClosing</th>\n",
              "      <th>FundFund</th>\n",
              "    </tr>\n",
              "  </thead>\n",
              "  <tbody>\n",
              "    <tr>\n",
              "      <th>0</th>\n",
              "      <td>Almena State Bank</td>\n",
              "      <td>Almena</td>\n",
              "      <td>KS</td>\n",
              "      <td>15426</td>\n",
              "      <td>Equity Bank</td>\n",
              "      <td>October 23, 2020</td>\n",
              "      <td>10538</td>\n",
              "    </tr>\n",
              "    <tr>\n",
              "      <th>1</th>\n",
              "      <td>First City Bank of Florida</td>\n",
              "      <td>Fort Walton Beach</td>\n",
              "      <td>FL</td>\n",
              "      <td>16748</td>\n",
              "      <td>United Fidelity Bank, fsb</td>\n",
              "      <td>October 16, 2020</td>\n",
              "      <td>10537</td>\n",
              "    </tr>\n",
              "    <tr>\n",
              "      <th>2</th>\n",
              "      <td>The First State Bank</td>\n",
              "      <td>Barboursville</td>\n",
              "      <td>WV</td>\n",
              "      <td>14361</td>\n",
              "      <td>MVB Bank, Inc.</td>\n",
              "      <td>April 3, 2020</td>\n",
              "      <td>10536</td>\n",
              "    </tr>\n",
              "    <tr>\n",
              "      <th>3</th>\n",
              "      <td>Ericson State Bank</td>\n",
              "      <td>Ericson</td>\n",
              "      <td>NE</td>\n",
              "      <td>18265</td>\n",
              "      <td>Farmers and Merchants Bank</td>\n",
              "      <td>February 14, 2020</td>\n",
              "      <td>10535</td>\n",
              "    </tr>\n",
              "    <tr>\n",
              "      <th>4</th>\n",
              "      <td>City National Bank of New Jersey</td>\n",
              "      <td>Newark</td>\n",
              "      <td>NJ</td>\n",
              "      <td>21111</td>\n",
              "      <td>Industrial Bank</td>\n",
              "      <td>November 1, 2019</td>\n",
              "      <td>10534</td>\n",
              "    </tr>\n",
              "    <tr>\n",
              "      <th>...</th>\n",
              "      <td>...</td>\n",
              "      <td>...</td>\n",
              "      <td>...</td>\n",
              "      <td>...</td>\n",
              "      <td>...</td>\n",
              "      <td>...</td>\n",
              "      <td>...</td>\n",
              "    </tr>\n",
              "    <tr>\n",
              "      <th>558</th>\n",
              "      <td>Superior Bank, FSB</td>\n",
              "      <td>Hinsdale</td>\n",
              "      <td>IL</td>\n",
              "      <td>32646</td>\n",
              "      <td>Superior Federal, FSB</td>\n",
              "      <td>July 27, 2001</td>\n",
              "      <td>6004</td>\n",
              "    </tr>\n",
              "    <tr>\n",
              "      <th>559</th>\n",
              "      <td>Malta National Bank</td>\n",
              "      <td>Malta</td>\n",
              "      <td>OH</td>\n",
              "      <td>6629</td>\n",
              "      <td>North Valley Bank</td>\n",
              "      <td>May 3, 2001</td>\n",
              "      <td>4648</td>\n",
              "    </tr>\n",
              "    <tr>\n",
              "      <th>560</th>\n",
              "      <td>First Alliance Bank &amp; Trust Co.</td>\n",
              "      <td>Manchester</td>\n",
              "      <td>NH</td>\n",
              "      <td>34264</td>\n",
              "      <td>Southern New Hampshire Bank &amp; Trust</td>\n",
              "      <td>February 2, 2001</td>\n",
              "      <td>4647</td>\n",
              "    </tr>\n",
              "    <tr>\n",
              "      <th>561</th>\n",
              "      <td>National State Bank of Metropolis</td>\n",
              "      <td>Metropolis</td>\n",
              "      <td>IL</td>\n",
              "      <td>3815</td>\n",
              "      <td>Banterra Bank of Marion</td>\n",
              "      <td>December 14, 2000</td>\n",
              "      <td>4646</td>\n",
              "    </tr>\n",
              "    <tr>\n",
              "      <th>562</th>\n",
              "      <td>Bank of Honolulu</td>\n",
              "      <td>Honolulu</td>\n",
              "      <td>HI</td>\n",
              "      <td>21029</td>\n",
              "      <td>Bank of the Orient</td>\n",
              "      <td>October 13, 2000</td>\n",
              "      <td>4645</td>\n",
              "    </tr>\n",
              "  </tbody>\n",
              "</table>\n",
              "<p>563 rows × 7 columns</p>\n",
              "</div>"
            ],
            "text/plain": [
              "                         Bank NameBank  ... FundFund\n",
              "0                    Almena State Bank  ...    10538\n",
              "1           First City Bank of Florida  ...    10537\n",
              "2                 The First State Bank  ...    10536\n",
              "3                   Ericson State Bank  ...    10535\n",
              "4     City National Bank of New Jersey  ...    10534\n",
              "..                                 ...  ...      ...\n",
              "558                 Superior Bank, FSB  ...     6004\n",
              "559                Malta National Bank  ...     4648\n",
              "560    First Alliance Bank & Trust Co.  ...     4647\n",
              "561  National State Bank of Metropolis  ...     4646\n",
              "562                   Bank of Honolulu  ...     4645\n",
              "\n",
              "[563 rows x 7 columns]"
            ]
          },
          "metadata": {},
          "execution_count": 11
        }
      ]
    },
    {
      "cell_type": "code",
      "metadata": {
        "id": "lDgnxEXuL_zf"
      },
      "source": [
        ""
      ],
      "execution_count": null,
      "outputs": []
    }
  ]
}